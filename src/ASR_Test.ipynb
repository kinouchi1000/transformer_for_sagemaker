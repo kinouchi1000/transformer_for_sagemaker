{
 "cells": [
  {
   "cell_type": "code",
   "execution_count": null,
   "id": "3793fc76-0eed-4454-8646-e84444332027",
   "metadata": {},
   "outputs": [],
   "source": [
    "import torch\n",
    "import librosa"
   ]
  },
  {
   "cell_type": "markdown",
   "id": "92f3deea-413f-420d-b563-af8a31b49a75",
   "metadata": {},
   "source": [
    "# frontend"
   ]
  },
  {
   "cell_type": "code",
   "execution_count": null,
   "id": "3fb36bd4-c813-4027-b52d-f9b201f6ec51",
   "metadata": {},
   "outputs": [],
   "source": [
    "from model.frontend.default import DefaultFrontend\n",
    "\n",
    "frontend = DefaultFrontend()"
   ]
  },
  {
   "cell_type": "markdown",
   "id": "0478e760-c9ef-4a58-8b2a-21c0db80293d",
   "metadata": {},
   "source": [
    "# Encoder"
   ]
  },
  {
   "cell_type": "code",
   "execution_count": null,
   "id": "9909abf8-ba14-49cb-a7ed-ffcde5a3fb53",
   "metadata": {},
   "outputs": [],
   "source": []
  },
  {
   "cell_type": "markdown",
   "id": "007affb7-798b-4e81-a671-c5774d9f4fec",
   "metadata": {},
   "source": [
    "# Decoder"
   ]
  },
  {
   "cell_type": "code",
   "execution_count": null,
   "id": "250ae3a7-31cd-4523-9591-89e68d19c35e",
   "metadata": {},
   "outputs": [],
   "source": []
  }
 ],
 "metadata": {
  "kernelspec": {
   "display_name": "test_sagemaker",
   "language": "python",
   "name": "test_sagemaker"
  },
  "language_info": {
   "codemirror_mode": {
    "name": "ipython",
    "version": 3
   },
   "file_extension": ".py",
   "mimetype": "text/x-python",
   "name": "python",
   "nbconvert_exporter": "python",
   "pygments_lexer": "ipython3",
   "version": "3.10.4"
  }
 },
 "nbformat": 4,
 "nbformat_minor": 5
}
